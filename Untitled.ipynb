{
 "cells": [
  {
   "cell_type": "code",
   "execution_count": 12,
   "id": "3a3ec09c",
   "metadata": {},
   "outputs": [],
   "source": [
    "import pandas as pd\n",
    "import numpy as np\n",
    "from sklearn.model_selection import train_test_split\n",
    "from tensorflow.keras.models import Sequential\n",
    "from tensorflow.keras.layers import Dense, Flatten, BatchNormalization\n",
    "from tensorflow.keras.applications.resnet50 import ResNet50, preprocess_input\n",
    "from tensorflow.keras.preprocessing.image import load_img, img_to_array\n",
    "from tensorflow.keras.optimizers import Adam"
   ]
  },
  {
   "cell_type": "code",
   "execution_count": 27,
   "id": "98043e6c",
   "metadata": {},
   "outputs": [
    {
     "ename": "FileNotFoundError",
     "evalue": "The 'images' folder does not exist in C:\\Users\\relax\\miniconda3\\envs\\LatihanCV\\helm\\helm\\datas\\train",
     "output_type": "error",
     "traceback": [
      "\u001b[1;31m---------------------------------------------------------------------------\u001b[0m",
      "\u001b[1;31mFileNotFoundError\u001b[0m                         Traceback (most recent call last)",
      "Cell \u001b[1;32mIn[27], line 33\u001b[0m\n\u001b[0;32m     31\u001b[0m \u001b[38;5;66;03m# Read annotations and image paths\u001b[39;00m\n\u001b[0;32m     32\u001b[0m annotations \u001b[38;5;241m=\u001b[39m read_annotations(subset_folder)\n\u001b[1;32m---> 33\u001b[0m image_paths \u001b[38;5;241m=\u001b[39m \u001b[43mget_image_paths\u001b[49m\u001b[43m(\u001b[49m\u001b[43msubset_folder\u001b[49m\u001b[43m)\u001b[49m\n\u001b[0;32m     35\u001b[0m \u001b[38;5;66;03m# Combine annotations and paths into a DataFrame\u001b[39;00m\n\u001b[0;32m     36\u001b[0m subset_df \u001b[38;5;241m=\u001b[39m pd\u001b[38;5;241m.\u001b[39mDataFrame({\u001b[38;5;124m'\u001b[39m\u001b[38;5;124mimage_path\u001b[39m\u001b[38;5;124m'\u001b[39m: image_paths, \u001b[38;5;124m'\u001b[39m\u001b[38;5;124mannotation\u001b[39m\u001b[38;5;124m'\u001b[39m: annotations[\u001b[38;5;124m'\u001b[39m\u001b[38;5;124mlabel\u001b[39m\u001b[38;5;124m'\u001b[39m]})\n",
      "Cell \u001b[1;32mIn[27], line 14\u001b[0m, in \u001b[0;36mget_image_paths\u001b[1;34m(folder_path)\u001b[0m\n\u001b[0;32m     12\u001b[0m \u001b[38;5;66;03m# Check if the 'images' folder exists\u001b[39;00m\n\u001b[0;32m     13\u001b[0m \u001b[38;5;28;01mif\u001b[39;00m \u001b[38;5;129;01mnot\u001b[39;00m os\u001b[38;5;241m.\u001b[39mpath\u001b[38;5;241m.\u001b[39mexists(images_folder):\n\u001b[1;32m---> 14\u001b[0m     \u001b[38;5;28;01mraise\u001b[39;00m \u001b[38;5;167;01mFileNotFoundError\u001b[39;00m(\u001b[38;5;124mf\u001b[39m\u001b[38;5;124m\"\u001b[39m\u001b[38;5;124mThe \u001b[39m\u001b[38;5;124m'\u001b[39m\u001b[38;5;124mimages\u001b[39m\u001b[38;5;124m'\u001b[39m\u001b[38;5;124m folder does not exist in \u001b[39m\u001b[38;5;132;01m{\u001b[39;00mfolder_path\u001b[38;5;132;01m}\u001b[39;00m\u001b[38;5;124m\"\u001b[39m)\n\u001b[0;32m     16\u001b[0m image_paths \u001b[38;5;241m=\u001b[39m [os\u001b[38;5;241m.\u001b[39mpath\u001b[38;5;241m.\u001b[39mjoin(images_folder, image) \u001b[38;5;28;01mfor\u001b[39;00m image \u001b[38;5;129;01min\u001b[39;00m os\u001b[38;5;241m.\u001b[39mlistdir(images_folder)]\n\u001b[0;32m     17\u001b[0m \u001b[38;5;28;01mreturn\u001b[39;00m image_paths\n",
      "\u001b[1;31mFileNotFoundError\u001b[0m: The 'images' folder does not exist in C:\\Users\\relax\\miniconda3\\envs\\LatihanCV\\helm\\helm\\datas\\train"
     ]
    }
   ],
   "source": [
    "import os\n",
    "import pandas as pd\n",
    "\n",
    "def read_annotations(folder_path):\n",
    "    annotations_path = os.path.join(folder_path, '_annotations.csv')\n",
    "    annotations = pd.read_csv(annotations_path)\n",
    "    return annotations\n",
    "\n",
    "def get_image_paths(folder_path):\n",
    "    images_folder = os.path.join(folder_path, 'images')\n",
    "    \n",
    "    # Check if the 'images' folder exists\n",
    "    if not os.path.exists(images_folder):\n",
    "        raise FileNotFoundError(f\"The 'images' folder does not exist in {folder_path}\")\n",
    "    \n",
    "    image_paths = [os.path.join(images_folder, image) for image in os.listdir(images_folder)]\n",
    "    return image_paths\n",
    "\n",
    "# Path to the dataset folder\n",
    "dataset_folder = 'C:\\\\Users\\\\relax\\\\miniconda3\\\\envs\\\\LatihanCV\\\\helm\\\\helm\\\\datas'\n",
    "\n",
    "# Initialize empty DataFrames for train, test, and valid\n",
    "train_df = pd.DataFrame(columns=['image_path', 'annotation'])\n",
    "test_df = pd.DataFrame(columns=['image_path', 'annotation'])\n",
    "valid_df = pd.DataFrame(columns=['image_path', 'annotation'])\n",
    "\n",
    "# Iterate through each subset (train, test, valid)\n",
    "for subset in ['train', 'test', 'valid']:\n",
    "    subset_folder = os.path.join(dataset_folder, subset)\n",
    "    \n",
    "    # Read annotations and image paths\n",
    "    annotations = read_annotations(subset_folder)\n",
    "    image_paths = get_image_paths(subset_folder)\n",
    "    \n",
    "    # Combine annotations and paths into a DataFrame\n",
    "    subset_df = pd.DataFrame({'image_path': image_paths, 'annotation': annotations['label']})\n",
    "    \n",
    "    # Assign the DataFrame to the corresponding variable (train_df, test_df, valid_df)\n",
    "    if subset == 'train':\n",
    "        train_df = subset_df\n",
    "    elif subset == 'test':\n",
    "        test_df = subset_df\n",
    "    elif subset == 'valid':\n",
    "        valid_df = subset_df\n",
    "\n",
    "# Display the structure of the DataFrames\n",
    "print(\"Train DataFrame:\")\n",
    "print(train_df.head())\n",
    "\n",
    "print(\"\\nTest DataFrame:\")\n",
    "print(test_df.head())\n",
    "\n",
    "print(\"\\nValid DataFrame:\")\n",
    "print(valid_df.head())\n",
    "\n"
   ]
  },
  {
   "cell_type": "code",
   "execution_count": 24,
   "id": "730af534",
   "metadata": {},
   "outputs": [
    {
     "ename": "FileNotFoundError",
     "evalue": "[WinError 3] The system cannot find the path specified: 'C:\\\\Users\\\\relax\\\\miniconda3\\\\envs\\\\LatihanCV\\\\helm\\\\helm\\\\datas\\\\train\\\\images'",
     "output_type": "error",
     "traceback": [
      "\u001b[1;31m---------------------------------------------------------------------------\u001b[0m",
      "\u001b[1;31mFileNotFoundError\u001b[0m                         Traceback (most recent call last)",
      "Cell \u001b[1;32mIn[24], line 2\u001b[0m\n\u001b[0;32m      1\u001b[0m images_folder \u001b[38;5;241m=\u001b[39m \u001b[38;5;124m'\u001b[39m\u001b[38;5;124mC:\u001b[39m\u001b[38;5;130;01m\\\\\u001b[39;00m\u001b[38;5;124mUsers\u001b[39m\u001b[38;5;130;01m\\\\\u001b[39;00m\u001b[38;5;124mrelax\u001b[39m\u001b[38;5;130;01m\\\\\u001b[39;00m\u001b[38;5;124mminiconda3\u001b[39m\u001b[38;5;130;01m\\\\\u001b[39;00m\u001b[38;5;124menvs\u001b[39m\u001b[38;5;130;01m\\\\\u001b[39;00m\u001b[38;5;124mLatihanCV\u001b[39m\u001b[38;5;130;01m\\\\\u001b[39;00m\u001b[38;5;124mhelm\u001b[39m\u001b[38;5;130;01m\\\\\u001b[39;00m\u001b[38;5;124mhelm\u001b[39m\u001b[38;5;130;01m\\\\\u001b[39;00m\u001b[38;5;124mdatas\u001b[39m\u001b[38;5;130;01m\\\\\u001b[39;00m\u001b[38;5;124mtrain\u001b[39m\u001b[38;5;130;01m\\\\\u001b[39;00m\u001b[38;5;124mimages\u001b[39m\u001b[38;5;124m'\u001b[39m\n\u001b[1;32m----> 2\u001b[0m image_paths \u001b[38;5;241m=\u001b[39m [os\u001b[38;5;241m.\u001b[39mpath\u001b[38;5;241m.\u001b[39mjoin(images_folder, image) \u001b[38;5;28;01mfor\u001b[39;00m image \u001b[38;5;129;01min\u001b[39;00m \u001b[43mos\u001b[49m\u001b[38;5;241;43m.\u001b[39;49m\u001b[43mlistdir\u001b[49m\u001b[43m(\u001b[49m\u001b[43mimages_folder\u001b[49m\u001b[43m)\u001b[49m]\n",
      "\u001b[1;31mFileNotFoundError\u001b[0m: [WinError 3] The system cannot find the path specified: 'C:\\\\Users\\\\relax\\\\miniconda3\\\\envs\\\\LatihanCV\\\\helm\\\\helm\\\\datas\\\\train\\\\images'"
     ]
    }
   ],
   "source": [
    "images_folder = 'C:\\\\Users\\\\relax\\\\miniconda3\\\\envs\\\\LatihanCV\\\\helm\\\\helm\\\\datas\\\\train\\\\images'\n",
    "image_paths = [os.path.join(images_folder, image) for image in os.listdir(images_folder)]\n"
   ]
  },
  {
   "cell_type": "code",
   "execution_count": null,
   "id": "2fe501aa",
   "metadata": {},
   "outputs": [],
   "source": []
  }
 ],
 "metadata": {
  "kernelspec": {
   "display_name": "Python 3 (ipykernel)",
   "language": "python",
   "name": "python3"
  },
  "language_info": {
   "codemirror_mode": {
    "name": "ipython",
    "version": 3
   },
   "file_extension": ".py",
   "mimetype": "text/x-python",
   "name": "python",
   "nbconvert_exporter": "python",
   "pygments_lexer": "ipython3",
   "version": "3.9.18"
  }
 },
 "nbformat": 4,
 "nbformat_minor": 5
}
